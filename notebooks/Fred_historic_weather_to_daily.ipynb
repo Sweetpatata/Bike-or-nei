{
 "cells": [
  {
   "cell_type": "markdown",
   "id": "9ad91cea",
   "metadata": {},
   "source": [
    "Historical Weather Data Cleaning"
   ]
  },
  {
   "cell_type": "markdown",
   "id": "2d25d7a7",
   "metadata": {},
   "source": [
    "# Iterate over the dataframe in steps of 24 and calculate the following for these values:\n",
    "    # temp_min and temp max - this is a matter of finding the lowest and highest observations\n",
    "    # wind_speed - average of the whole day\n",
    "    # rain - average rainfall\n",
    "    # snow - average snowfall"
   ]
  },
  {
   "cell_type": "code",
   "execution_count": 19,
   "id": "4813b5de",
   "metadata": {},
   "outputs": [],
   "source": [
    "import pandas as pd\n",
    "import numpy as np\n",
    "from datetime import datetime "
   ]
  },
  {
   "cell_type": "code",
   "execution_count": 2,
   "id": "053feb32",
   "metadata": {},
   "outputs": [],
   "source": [
    "df = pd.read_csv('/Users/frederickjohannson/code/Sweetpatata/bike-or-nei/raw_data/Oslo-historic-weather-data.csv')"
   ]
  },
  {
   "cell_type": "code",
   "execution_count": null,
   "id": "3759e144",
   "metadata": {},
   "outputs": [],
   "source": [
    "#grouped_single = df.groupby('Team').agg({'Age': ['mean', 'min', 'max']})"
   ]
  },
  {
   "cell_type": "code",
   "execution_count": 57,
   "id": "af5a8da7",
   "metadata": {},
   "outputs": [],
   "source": [
    "df['dt_iso'] = df['dt_iso'].apply(lambda x: x.split(' ')[0])"
   ]
  },
  {
   "cell_type": "code",
   "execution_count": 63,
   "id": "2f198f64",
   "metadata": {},
   "outputs": [],
   "source": [
    "df_grouped_by_day = pd.DataFrame(df.groupby('dt_iso').agg({'temp_min':'min','temp_max':'max','wind_speed':'mean','rain_1h':'sum','snow_1h':'sum'}))"
   ]
  },
  {
   "cell_type": "code",
   "execution_count": 65,
   "id": "3499264f",
   "metadata": {},
   "outputs": [],
   "source": [
    "historic_weather_df = df_grouped_by_day.reset_index()"
   ]
  },
  {
   "cell_type": "code",
   "execution_count": 72,
   "id": "9ad12923",
   "metadata": {},
   "outputs": [],
   "source": [
    "historic_weather_df = historic_weather_df.rename({'dt_iso':'date', \n",
    "                                                  'wind_speed':'wind_speed_avg',\n",
    "                                                  'rain_1h':'rainfall_total',\n",
    "                                                  'snow_1h':'snow_total'}, axis=1)\n"
   ]
  },
  {
   "cell_type": "code",
   "execution_count": 73,
   "id": "9afb922e",
   "metadata": {},
   "outputs": [
    {
     "data": {
      "text/html": [
       "<div>\n",
       "<style scoped>\n",
       "    .dataframe tbody tr th:only-of-type {\n",
       "        vertical-align: middle;\n",
       "    }\n",
       "\n",
       "    .dataframe tbody tr th {\n",
       "        vertical-align: top;\n",
       "    }\n",
       "\n",
       "    .dataframe thead th {\n",
       "        text-align: right;\n",
       "    }\n",
       "</style>\n",
       "<table border=\"1\" class=\"dataframe\">\n",
       "  <thead>\n",
       "    <tr style=\"text-align: right;\">\n",
       "      <th></th>\n",
       "      <th>date</th>\n",
       "      <th>temp_min</th>\n",
       "      <th>temp_max</th>\n",
       "      <th>wind_speed_avg</th>\n",
       "      <th>rainfall_total</th>\n",
       "      <th>snow_total</th>\n",
       "    </tr>\n",
       "  </thead>\n",
       "  <tbody>\n",
       "    <tr>\n",
       "      <th>0</th>\n",
       "      <td>2019-04-01</td>\n",
       "      <td>-7.23</td>\n",
       "      <td>8.80</td>\n",
       "      <td>4.087500</td>\n",
       "      <td>0.00</td>\n",
       "      <td>0.0</td>\n",
       "    </tr>\n",
       "    <tr>\n",
       "      <th>1</th>\n",
       "      <td>2019-04-02</td>\n",
       "      <td>-2.04</td>\n",
       "      <td>11.21</td>\n",
       "      <td>4.633333</td>\n",
       "      <td>0.00</td>\n",
       "      <td>0.0</td>\n",
       "    </tr>\n",
       "    <tr>\n",
       "      <th>2</th>\n",
       "      <td>2019-04-03</td>\n",
       "      <td>-2.79</td>\n",
       "      <td>6.61</td>\n",
       "      <td>4.620833</td>\n",
       "      <td>1.71</td>\n",
       "      <td>0.6</td>\n",
       "    </tr>\n",
       "    <tr>\n",
       "      <th>3</th>\n",
       "      <td>2019-04-04</td>\n",
       "      <td>-1.76</td>\n",
       "      <td>15.38</td>\n",
       "      <td>4.389583</td>\n",
       "      <td>0.00</td>\n",
       "      <td>0.0</td>\n",
       "    </tr>\n",
       "    <tr>\n",
       "      <th>4</th>\n",
       "      <td>2019-04-05</td>\n",
       "      <td>-1.41</td>\n",
       "      <td>12.05</td>\n",
       "      <td>6.741667</td>\n",
       "      <td>0.39</td>\n",
       "      <td>0.5</td>\n",
       "    </tr>\n",
       "    <tr>\n",
       "      <th>...</th>\n",
       "      <td>...</td>\n",
       "      <td>...</td>\n",
       "      <td>...</td>\n",
       "      <td>...</td>\n",
       "      <td>...</td>\n",
       "      <td>...</td>\n",
       "    </tr>\n",
       "    <tr>\n",
       "      <th>1305</th>\n",
       "      <td>2022-10-27</td>\n",
       "      <td>5.21</td>\n",
       "      <td>13.72</td>\n",
       "      <td>3.071250</td>\n",
       "      <td>0.10</td>\n",
       "      <td>0.0</td>\n",
       "    </tr>\n",
       "    <tr>\n",
       "      <th>1306</th>\n",
       "      <td>2022-10-28</td>\n",
       "      <td>7.69</td>\n",
       "      <td>14.30</td>\n",
       "      <td>2.264583</td>\n",
       "      <td>3.01</td>\n",
       "      <td>0.0</td>\n",
       "    </tr>\n",
       "    <tr>\n",
       "      <th>1307</th>\n",
       "      <td>2022-10-29</td>\n",
       "      <td>4.06</td>\n",
       "      <td>16.58</td>\n",
       "      <td>3.171667</td>\n",
       "      <td>0.00</td>\n",
       "      <td>0.0</td>\n",
       "    </tr>\n",
       "    <tr>\n",
       "      <th>1308</th>\n",
       "      <td>2022-10-30</td>\n",
       "      <td>0.21</td>\n",
       "      <td>9.83</td>\n",
       "      <td>1.096667</td>\n",
       "      <td>0.19</td>\n",
       "      <td>0.0</td>\n",
       "    </tr>\n",
       "    <tr>\n",
       "      <th>1309</th>\n",
       "      <td>2022-10-31</td>\n",
       "      <td>6.02</td>\n",
       "      <td>14.30</td>\n",
       "      <td>2.132917</td>\n",
       "      <td>0.60</td>\n",
       "      <td>0.0</td>\n",
       "    </tr>\n",
       "  </tbody>\n",
       "</table>\n",
       "<p>1310 rows × 6 columns</p>\n",
       "</div>"
      ],
      "text/plain": [
       "            date  temp_min  temp_max  wind_speed_avg  rainfall_total  \\\n",
       "0     2019-04-01     -7.23      8.80        4.087500            0.00   \n",
       "1     2019-04-02     -2.04     11.21        4.633333            0.00   \n",
       "2     2019-04-03     -2.79      6.61        4.620833            1.71   \n",
       "3     2019-04-04     -1.76     15.38        4.389583            0.00   \n",
       "4     2019-04-05     -1.41     12.05        6.741667            0.39   \n",
       "...          ...       ...       ...             ...             ...   \n",
       "1305  2022-10-27      5.21     13.72        3.071250            0.10   \n",
       "1306  2022-10-28      7.69     14.30        2.264583            3.01   \n",
       "1307  2022-10-29      4.06     16.58        3.171667            0.00   \n",
       "1308  2022-10-30      0.21      9.83        1.096667            0.19   \n",
       "1309  2022-10-31      6.02     14.30        2.132917            0.60   \n",
       "\n",
       "      snow_total  \n",
       "0            0.0  \n",
       "1            0.0  \n",
       "2            0.6  \n",
       "3            0.0  \n",
       "4            0.5  \n",
       "...          ...  \n",
       "1305         0.0  \n",
       "1306         0.0  \n",
       "1307         0.0  \n",
       "1308         0.0  \n",
       "1309         0.0  \n",
       "\n",
       "[1310 rows x 6 columns]"
      ]
     },
     "execution_count": 73,
     "metadata": {},
     "output_type": "execute_result"
    }
   ],
   "source": [
    "historic_weather_df"
   ]
  },
  {
   "cell_type": "code",
   "execution_count": null,
   "id": "9778b601",
   "metadata": {},
   "outputs": [],
   "source": []
  }
 ],
 "metadata": {
  "kernelspec": {
   "display_name": "Python 3 (ipykernel)",
   "language": "python",
   "name": "python3"
  },
  "language_info": {
   "codemirror_mode": {
    "name": "ipython",
    "version": 3
   },
   "file_extension": ".py",
   "mimetype": "text/x-python",
   "name": "python",
   "nbconvert_exporter": "python",
   "pygments_lexer": "ipython3",
   "version": "3.10.6"
  },
  "toc": {
   "base_numbering": 1,
   "nav_menu": {},
   "number_sections": true,
   "sideBar": true,
   "skip_h1_title": false,
   "title_cell": "Table of Contents",
   "title_sidebar": "Contents",
   "toc_cell": false,
   "toc_position": {},
   "toc_section_display": true,
   "toc_window_display": false
  }
 },
 "nbformat": 4,
 "nbformat_minor": 5
}
