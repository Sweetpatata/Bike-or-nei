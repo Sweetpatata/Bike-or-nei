{
 "cells": [
  {
   "cell_type": "markdown",
   "id": "a247ea64",
   "metadata": {},
   "source": [
    "# Forecast API Request\n"
   ]
  },
  {
   "cell_type": "code",
   "execution_count": 1,
   "id": "ffdf060d",
   "metadata": {},
   "outputs": [],
   "source": [
    "import pandas as pd\n",
    "import numpy as np\n",
    "\n",
    "import sys\n",
    "import urllib.parse\n",
    "import requests\n",
    "from datetime import datetime, date, timezone, timedelta\n",
    "from sklearn.preprocessing import OneHotEncoder\n",
    "import datetime"
   ]
  },
  {
   "cell_type": "code",
   "execution_count": 2,
   "id": "97005da4",
   "metadata": {},
   "outputs": [],
   "source": [
    "BASE_URL = \"https://weather.lewagon.com\"\n",
    "oslo_lat = 59.919602443955355\n",
    "oslo_lon = 10.752152108688852\n",
    "#appid = 'ed4479cb1d5ca4806089385ba8f6d277' - Fred's API key"
   ]
  },
  {
   "cell_type": "code",
   "execution_count": 3,
   "id": "e573ac4c",
   "metadata": {},
   "outputs": [],
   "source": [
    "def weather_forecast(lat, lon):\n",
    "    '''Return a 5-day weather forecast for the city, given its latitude and longitude.'''\n",
    "    url = urllib.parse.urljoin(BASE_URL, \"/data/2.5/forecast\")\n",
    "    forecasts = requests.get(url, params={'lat': lat, 'lon': lon, 'units': 'metric'}).json()['list']\n",
    "    return forecasts"
   ]
  },
  {
   "cell_type": "markdown",
   "id": "85411572",
   "metadata": {},
   "source": [
    "# Transforming forecast"
   ]
  },
  {
   "cell_type": "code",
   "execution_count": 4,
   "id": "19e04209",
   "metadata": {},
   "outputs": [],
   "source": [
    "def check_float(column):\n",
    "    for index, row in enumerate(column):\n",
    "        if type(row)==float:\n",
    "            column[index] = 0\n",
    "        else:\n",
    "            column[index] = row['3h']\n",
    "    return column"
   ]
  },
  {
   "cell_type": "code",
   "execution_count": 5,
   "id": "958bd2c6",
   "metadata": {},
   "outputs": [],
   "source": [
    "def transform_forecast():\n",
    "    uncleaned_forecast = pd.DataFrame(weather_forecast(oslo_lat, oslo_lon))\n",
    "    uncleaned_forecast = uncleaned_forecast.drop(columns=['dt','weather','clouds','visibility','pop','sys'])\n",
    "    \n",
    "    uncleaned_forecast['temp_min'] = uncleaned_forecast['main'].apply(lambda x: x['temp_min'])\n",
    "    uncleaned_forecast['temp_max'] = uncleaned_forecast['main'].apply(lambda x: x['temp_max'])\n",
    "    uncleaned_forecast['wind_speed'] = uncleaned_forecast['wind'].apply(lambda x: x['speed'])\n",
    "    \n",
    "    if 'snow' in uncleaned_forecast.columns:\n",
    "        check_float(uncleaned_forecast['snow'])\n",
    "    if 'rain' in uncleaned_forecast.columns:\n",
    "        check_float(uncleaned_forecast['rain'])\n",
    "    \n",
    "    uncleaned_forecast = uncleaned_forecast.drop(columns=['main','wind',])\n",
    "    uncleaned_forecast['dt_txt'] = uncleaned_forecast['dt_txt'].apply(lambda x: x.split(' ')[0])\n",
    "    \n",
    "    \n",
    "    day_grouped_forecast = uncleaned_forecast.groupby('dt_txt').agg({'temp_min':'min',\n",
    "                                                                    'temp_max':'max', \n",
    "                                                                    'wind_speed':'mean'})\n",
    "    \n",
    "    if 'snow' in uncleaned_forecast.columns:\n",
    "        day_grouped_forecast['snow_total'] = uncleaned_forecast.groupby('dt_txt').agg({'snow':'sum'})['snow']\n",
    "    else:\n",
    "        day_grouped_forecast['snow_total'] = 0\n",
    "    if 'rain' in uncleaned_forecast.columns:\n",
    "        day_grouped_forecast['rainfall_total'] = uncleaned_forecast.groupby('dt_txt').agg({'rain':'sum'})['rain']\n",
    "    else:\n",
    "        day_grouped_forecast['rainfall_total'] = 0\n",
    "    \n",
    "    cleaned_forecast = day_grouped_forecast.reset_index()\n",
    "    cleaned_forecast = cleaned_forecast.rename({'dt_txt':'date', \n",
    "                                                'wind_speed':'wind_speed_avg'}, axis=1)\n",
    "    \n",
    "    cleaned_forecast['date'] = pd.to_datetime(cleaned_forecast['date'])\n",
    "    cleaned_forecast['day_of_week'] = cleaned_forecast['date'].dt.dayofweek\n",
    "    cleaned_forecast['Month'] = cleaned_forecast['date'].dt.month\n",
    "    \n",
    "    \n",
    "    return cleaned_forecast"
   ]
  },
  {
   "cell_type": "code",
   "execution_count": 6,
   "id": "ae25dcb7",
   "metadata": {},
   "outputs": [],
   "source": [
    "def encode_day_month(X, col_list):\n",
    "    ohe = OneHotEncoder(sparse = False) \n",
    "    ohe.fit(X[col_list]) \n",
    "    X[ohe.get_feature_names_out()] = ohe.transform(X[col_list])\n",
    "    return X.drop(columns = col_list)"
   ]
  },
  {
   "cell_type": "code",
   "execution_count": 7,
   "id": "938d9aca",
   "metadata": {},
   "outputs": [],
   "source": [
    "cleaned_forecast = transform_forecast()"
   ]
  },
  {
   "cell_type": "code",
   "execution_count": 8,
   "id": "810cb784",
   "metadata": {},
   "outputs": [],
   "source": [
    "cleaned_forecast = encode_day_month(cleaned_forecast, ['day_of_week', 'Month'])"
   ]
  },
  {
   "cell_type": "code",
   "execution_count": 9,
   "id": "3621fc88",
   "metadata": {
    "scrolled": true
   },
   "outputs": [
    {
     "data": {
      "text/html": [
       "<div>\n",
       "<style scoped>\n",
       "    .dataframe tbody tr th:only-of-type {\n",
       "        vertical-align: middle;\n",
       "    }\n",
       "\n",
       "    .dataframe tbody tr th {\n",
       "        vertical-align: top;\n",
       "    }\n",
       "\n",
       "    .dataframe thead th {\n",
       "        text-align: right;\n",
       "    }\n",
       "</style>\n",
       "<table border=\"1\" class=\"dataframe\">\n",
       "  <thead>\n",
       "    <tr style=\"text-align: right;\">\n",
       "      <th></th>\n",
       "      <th>date</th>\n",
       "      <th>temp_min</th>\n",
       "      <th>temp_max</th>\n",
       "      <th>wind_speed_avg</th>\n",
       "      <th>snow_total</th>\n",
       "      <th>rainfall_total</th>\n",
       "      <th>day_of_week_0</th>\n",
       "      <th>day_of_week_1</th>\n",
       "      <th>day_of_week_2</th>\n",
       "      <th>day_of_week_3</th>\n",
       "      <th>day_of_week_4</th>\n",
       "      <th>day_of_week_6</th>\n",
       "      <th>Month_12</th>\n",
       "    </tr>\n",
       "  </thead>\n",
       "  <tbody>\n",
       "    <tr>\n",
       "      <th>0</th>\n",
       "      <td>2022-12-04</td>\n",
       "      <td>-7.09</td>\n",
       "      <td>-1.35</td>\n",
       "      <td>1.37250</td>\n",
       "      <td>0</td>\n",
       "      <td>0</td>\n",
       "      <td>0.0</td>\n",
       "      <td>0.0</td>\n",
       "      <td>0.0</td>\n",
       "      <td>0.0</td>\n",
       "      <td>0.0</td>\n",
       "      <td>1.0</td>\n",
       "      <td>1.0</td>\n",
       "    </tr>\n",
       "    <tr>\n",
       "      <th>1</th>\n",
       "      <td>2022-12-05</td>\n",
       "      <td>-8.17</td>\n",
       "      <td>-5.37</td>\n",
       "      <td>0.90625</td>\n",
       "      <td>0</td>\n",
       "      <td>0</td>\n",
       "      <td>1.0</td>\n",
       "      <td>0.0</td>\n",
       "      <td>0.0</td>\n",
       "      <td>0.0</td>\n",
       "      <td>0.0</td>\n",
       "      <td>0.0</td>\n",
       "      <td>1.0</td>\n",
       "    </tr>\n",
       "    <tr>\n",
       "      <th>2</th>\n",
       "      <td>2022-12-06</td>\n",
       "      <td>-6.96</td>\n",
       "      <td>-2.32</td>\n",
       "      <td>1.28250</td>\n",
       "      <td>0</td>\n",
       "      <td>0</td>\n",
       "      <td>0.0</td>\n",
       "      <td>1.0</td>\n",
       "      <td>0.0</td>\n",
       "      <td>0.0</td>\n",
       "      <td>0.0</td>\n",
       "      <td>0.0</td>\n",
       "      <td>1.0</td>\n",
       "    </tr>\n",
       "    <tr>\n",
       "      <th>3</th>\n",
       "      <td>2022-12-07</td>\n",
       "      <td>-8.34</td>\n",
       "      <td>-1.85</td>\n",
       "      <td>1.71250</td>\n",
       "      <td>0</td>\n",
       "      <td>0</td>\n",
       "      <td>0.0</td>\n",
       "      <td>0.0</td>\n",
       "      <td>1.0</td>\n",
       "      <td>0.0</td>\n",
       "      <td>0.0</td>\n",
       "      <td>0.0</td>\n",
       "      <td>1.0</td>\n",
       "    </tr>\n",
       "    <tr>\n",
       "      <th>4</th>\n",
       "      <td>2022-12-08</td>\n",
       "      <td>-9.90</td>\n",
       "      <td>-6.98</td>\n",
       "      <td>1.04875</td>\n",
       "      <td>0</td>\n",
       "      <td>0</td>\n",
       "      <td>0.0</td>\n",
       "      <td>0.0</td>\n",
       "      <td>0.0</td>\n",
       "      <td>1.0</td>\n",
       "      <td>0.0</td>\n",
       "      <td>0.0</td>\n",
       "      <td>1.0</td>\n",
       "    </tr>\n",
       "    <tr>\n",
       "      <th>5</th>\n",
       "      <td>2022-12-09</td>\n",
       "      <td>-10.11</td>\n",
       "      <td>-9.01</td>\n",
       "      <td>0.98750</td>\n",
       "      <td>0</td>\n",
       "      <td>0</td>\n",
       "      <td>0.0</td>\n",
       "      <td>0.0</td>\n",
       "      <td>0.0</td>\n",
       "      <td>0.0</td>\n",
       "      <td>1.0</td>\n",
       "      <td>0.0</td>\n",
       "      <td>1.0</td>\n",
       "    </tr>\n",
       "  </tbody>\n",
       "</table>\n",
       "</div>"
      ],
      "text/plain": [
       "        date  temp_min  temp_max  wind_speed_avg  snow_total  rainfall_total  \\\n",
       "0 2022-12-04     -7.09     -1.35         1.37250           0               0   \n",
       "1 2022-12-05     -8.17     -5.37         0.90625           0               0   \n",
       "2 2022-12-06     -6.96     -2.32         1.28250           0               0   \n",
       "3 2022-12-07     -8.34     -1.85         1.71250           0               0   \n",
       "4 2022-12-08     -9.90     -6.98         1.04875           0               0   \n",
       "5 2022-12-09    -10.11     -9.01         0.98750           0               0   \n",
       "\n",
       "   day_of_week_0  day_of_week_1  day_of_week_2  day_of_week_3  day_of_week_4  \\\n",
       "0            0.0            0.0            0.0            0.0            0.0   \n",
       "1            1.0            0.0            0.0            0.0            0.0   \n",
       "2            0.0            1.0            0.0            0.0            0.0   \n",
       "3            0.0            0.0            1.0            0.0            0.0   \n",
       "4            0.0            0.0            0.0            1.0            0.0   \n",
       "5            0.0            0.0            0.0            0.0            1.0   \n",
       "\n",
       "   day_of_week_6  Month_12  \n",
       "0            1.0       1.0  \n",
       "1            0.0       1.0  \n",
       "2            0.0       1.0  \n",
       "3            0.0       1.0  \n",
       "4            0.0       1.0  \n",
       "5            0.0       1.0  "
      ]
     },
     "execution_count": 9,
     "metadata": {},
     "output_type": "execute_result"
    }
   ],
   "source": [
    "cleaned_forecast"
   ]
  },
  {
   "cell_type": "markdown",
   "id": "3a6adcad",
   "metadata": {},
   "source": [
    "# Test for day selection"
   ]
  },
  {
   "cell_type": "code",
   "execution_count": 10,
   "id": "50c440b7",
   "metadata": {},
   "outputs": [],
   "source": [
    "def date_selector(user_date):\n",
    "    transform_forecast()[transform_forecast().date == user_date]"
   ]
  },
  {
   "cell_type": "markdown",
   "id": "666577d4",
   "metadata": {},
   "source": [
    "# Continue processing"
   ]
  },
  {
   "cell_type": "code",
   "execution_count": null,
   "id": "eeb7c75d",
   "metadata": {},
   "outputs": [],
   "source": []
  }
 ],
 "metadata": {
  "kernelspec": {
   "display_name": "Python 3 (ipykernel)",
   "language": "python",
   "name": "python3"
  },
  "language_info": {
   "codemirror_mode": {
    "name": "ipython",
    "version": 3
   },
   "file_extension": ".py",
   "mimetype": "text/x-python",
   "name": "python",
   "nbconvert_exporter": "python",
   "pygments_lexer": "ipython3",
   "version": "3.10.6"
  },
  "toc": {
   "base_numbering": 1,
   "nav_menu": {},
   "number_sections": true,
   "sideBar": true,
   "skip_h1_title": false,
   "title_cell": "Table of Contents",
   "title_sidebar": "Contents",
   "toc_cell": false,
   "toc_position": {},
   "toc_section_display": true,
   "toc_window_display": false
  }
 },
 "nbformat": 4,
 "nbformat_minor": 5
}
